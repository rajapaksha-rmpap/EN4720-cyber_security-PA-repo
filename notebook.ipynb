{
 "cells": [
  {
   "cell_type": "code",
   "execution_count": 3,
   "metadata": {},
   "outputs": [],
   "source": [
    "import os, sys, time, copy, json"
   ]
  },
  {
   "cell_type": "markdown",
   "metadata": {},
   "source": [
    "### **PROBLEM 3**\n",
    "\n",
    "- Verifying that the maximum plaintext length that can be encoded using RSA in problem 3 is 470 bytes.  "
   ]
  },
  {
   "cell_type": "code",
   "execution_count": 2,
   "metadata": {},
   "outputs": [
    {
     "name": "stdout",
     "output_type": "stream",
     "text": [
      "470\n"
     ]
    }
   ],
   "source": [
    "# to verify the maximum length of message that can be encrypted using RSA (4096 bits)\n",
    "\n",
    "MAX_LEN = 470 # bytes\n",
    "\n",
    "data_1 = b'1' * MAX_LEN\n",
    "print(len(data_1))\n",
    "\n",
    "with open('test/input.txt', 'wb') as file:\n",
    "    file.write(data_1)"
   ]
  },
  {
   "cell_type": "code",
   "execution_count": 4,
   "metadata": {},
   "outputs": [],
   "source": [
    "sys.path.append('problem_3/')\n",
    "\n",
    "from encryption_file import encrypt_file"
   ]
  },
  {
   "cell_type": "code",
   "execution_count": 5,
   "metadata": {},
   "outputs": [
    {
     "name": "stdout",
     "output_type": "stream",
     "text": [
      "Encryption complete. Encrypted file saved to: 'test/output.txt'\n"
     ]
    }
   ],
   "source": [
    "encrypt_file(\n",
    "    input_file_path = 'test/input.txt',\n",
    "    public_key_path = 'problem_3/public_key.PEM',\n",
    "    output_file_path = 'test/output.txt'\n",
    ")"
   ]
  },
  {
   "cell_type": "markdown",
   "metadata": {},
   "source": [
    "- So, we can encrypt files with 470 bytes... "
   ]
  },
  {
   "cell_type": "code",
   "execution_count": 6,
   "metadata": {},
   "outputs": [
    {
     "name": "stdout",
     "output_type": "stream",
     "text": [
      "471\n"
     ]
    }
   ],
   "source": [
    "data_2 = b'1' * (MAX_LEN + 1)\n",
    "print(len(data_2))\n",
    "\n",
    "with open('test/input_1.txt', 'wb') as file:\n",
    "    file.write(data_2)"
   ]
  },
  {
   "cell_type": "code",
   "execution_count": 7,
   "metadata": {},
   "outputs": [
    {
     "ename": "ValueError",
     "evalue": "Plaintext is too long.",
     "output_type": "error",
     "traceback": [
      "\u001b[0;31m---------------------------------------------------------------------------\u001b[0m",
      "\u001b[0;31mValueError\u001b[0m                                Traceback (most recent call last)",
      "Cell \u001b[0;32mIn[7], line 1\u001b[0m\n\u001b[0;32m----> 1\u001b[0m \u001b[43mencrypt_file\u001b[49m\u001b[43m(\u001b[49m\n\u001b[1;32m      2\u001b[0m \u001b[43m    \u001b[49m\u001b[43minput_file_path\u001b[49m\u001b[43m \u001b[49m\u001b[38;5;241;43m=\u001b[39;49m\u001b[43m \u001b[49m\u001b[38;5;124;43m'\u001b[39;49m\u001b[38;5;124;43mtest/input_1.txt\u001b[39;49m\u001b[38;5;124;43m'\u001b[39;49m\u001b[43m,\u001b[49m\n\u001b[1;32m      3\u001b[0m \u001b[43m    \u001b[49m\u001b[43mpublic_key_path\u001b[49m\u001b[43m \u001b[49m\u001b[38;5;241;43m=\u001b[39;49m\u001b[43m \u001b[49m\u001b[38;5;124;43m'\u001b[39;49m\u001b[38;5;124;43mproblem_3/public_key.PEM\u001b[39;49m\u001b[38;5;124;43m'\u001b[39;49m\u001b[43m,\u001b[49m\n\u001b[1;32m      4\u001b[0m \u001b[43m    \u001b[49m\u001b[43moutput_file_path\u001b[49m\u001b[43m \u001b[49m\u001b[38;5;241;43m=\u001b[39;49m\u001b[43m \u001b[49m\u001b[38;5;124;43m'\u001b[39;49m\u001b[38;5;124;43mtest/output_1.txt\u001b[39;49m\u001b[38;5;124;43m'\u001b[39;49m\n\u001b[1;32m      5\u001b[0m \u001b[43m)\u001b[49m\n",
      "File \u001b[0;32m~/semester_8/cyber_prog_assignment/problem_3/encryption_file.py:18\u001b[0m, in \u001b[0;36mencrypt_file\u001b[0;34m(input_file_path, public_key_path, output_file_path)\u001b[0m\n\u001b[1;32m     16\u001b[0m \u001b[38;5;66;03m# Encrypt the data with RSA\u001b[39;00m\n\u001b[1;32m     17\u001b[0m cipher_rsa \u001b[38;5;241m=\u001b[39m PKCS1_OAEP\u001b[38;5;241m.\u001b[39mnew(key\u001b[38;5;241m=\u001b[39mpublic_key)\n\u001b[0;32m---> 18\u001b[0m encrypted_data \u001b[38;5;241m=\u001b[39m \u001b[43mcipher_rsa\u001b[49m\u001b[38;5;241;43m.\u001b[39;49m\u001b[43mencrypt\u001b[49m\u001b[43m(\u001b[49m\u001b[43mdata\u001b[49m\u001b[43m)\u001b[49m\n\u001b[1;32m     20\u001b[0m \u001b[38;5;66;03m# Write the encrypted data to the output file\u001b[39;00m\n\u001b[1;32m     21\u001b[0m \u001b[38;5;28;01mwith\u001b[39;00m \u001b[38;5;28mopen\u001b[39m(output_file_path, \u001b[38;5;124m'\u001b[39m\u001b[38;5;124mwb\u001b[39m\u001b[38;5;124m'\u001b[39m) \u001b[38;5;28;01mas\u001b[39;00m encrypted_file:\n",
      "File \u001b[0;32m~/.local/lib/python3.10/site-packages/Crypto/Cipher/PKCS1_OAEP.py:117\u001b[0m, in \u001b[0;36mPKCS1OAEP_Cipher.encrypt\u001b[0;34m(self, message)\u001b[0m\n\u001b[1;32m    115\u001b[0m ps_len \u001b[38;5;241m=\u001b[39m k \u001b[38;5;241m-\u001b[39m mLen \u001b[38;5;241m-\u001b[39m \u001b[38;5;241m2\u001b[39m \u001b[38;5;241m*\u001b[39m hLen \u001b[38;5;241m-\u001b[39m \u001b[38;5;241m2\u001b[39m\n\u001b[1;32m    116\u001b[0m \u001b[38;5;28;01mif\u001b[39;00m ps_len \u001b[38;5;241m<\u001b[39m \u001b[38;5;241m0\u001b[39m:\n\u001b[0;32m--> 117\u001b[0m     \u001b[38;5;28;01mraise\u001b[39;00m \u001b[38;5;167;01mValueError\u001b[39;00m(\u001b[38;5;124m\"\u001b[39m\u001b[38;5;124mPlaintext is too long.\u001b[39m\u001b[38;5;124m\"\u001b[39m)\n\u001b[1;32m    118\u001b[0m \u001b[38;5;66;03m# Step 2a\u001b[39;00m\n\u001b[1;32m    119\u001b[0m lHash \u001b[38;5;241m=\u001b[39m \u001b[38;5;28mself\u001b[39m\u001b[38;5;241m.\u001b[39m_hashObj\u001b[38;5;241m.\u001b[39mnew(\u001b[38;5;28mself\u001b[39m\u001b[38;5;241m.\u001b[39m_label)\u001b[38;5;241m.\u001b[39mdigest()\n",
      "\u001b[0;31mValueError\u001b[0m: Plaintext is too long."
     ]
    }
   ],
   "source": [
    "encrypt_file(\n",
    "    input_file_path = 'test/input_1.txt',\n",
    "    public_key_path = 'problem_3/public_key.PEM',\n",
    "    output_file_path = 'test/output_1.txt'\n",
    ")"
   ]
  },
  {
   "cell_type": "markdown",
   "metadata": {},
   "source": [
    "- DONE!!! The maximum length of a message that can be encrypted is 470 bytes. "
   ]
  }
 ],
 "metadata": {
  "kernelspec": {
   "display_name": "Python 3",
   "language": "python",
   "name": "python3"
  },
  "language_info": {
   "codemirror_mode": {
    "name": "ipython",
    "version": 3
   },
   "file_extension": ".py",
   "mimetype": "text/x-python",
   "name": "python",
   "nbconvert_exporter": "python",
   "pygments_lexer": "ipython3",
   "version": "3.10.12"
  }
 },
 "nbformat": 4,
 "nbformat_minor": 2
}
